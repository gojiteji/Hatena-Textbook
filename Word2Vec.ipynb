{
  "nbformat": 4,
  "nbformat_minor": 0,
  "metadata": {
    "colab": {
      "name": "Word2Vec.ipynb",
      "provenance": [],
      "collapsed_sections": [],
      "authorship_tag": "ABX9TyOjdgAes8N3oAeWZf+Q5DLL",
      "include_colab_link": true
    },
    "kernelspec": {
      "name": "python3",
      "display_name": "Python 3"
    },
    "accelerator": "GPU"
  },
  "cells": [
    {
      "cell_type": "markdown",
      "metadata": {
        "id": "view-in-github",
        "colab_type": "text"
      },
      "source": [
        "<a href=\"https://colab.research.google.com/github/gojiteji/Hatena-Textbook/blob/master/Word2Vec.ipynb\" target=\"_parent\"><img src=\"https://colab.research.google.com/assets/colab-badge.svg\" alt=\"Open In Colab\"/></a>"
      ]
    },
    {
      "cell_type": "code",
      "metadata": {
        "id": "QvyBF7BgpC7w",
        "colab_type": "code",
        "colab": {}
      },
      "source": [
        "import matplotlib.pyplot as plt\n",
        "import pandas as pd\n",
        "import numpy as np\n",
        "import torch\n",
        "import torch.nn as nn\n",
        "import re\n",
        "import time\n",
        "import torch.optim as optimizers\n",
        "from sklearn.utils import shuffle\n",
        "import urllib.request\n",
        "import zipfile\n",
        "import re\n",
        "!apt-get install -y mecab libmecab-dev mecab-ipadic\n",
        "!apt-get install -y mecab-ipadic-utf8\n",
        "!apt-get install -y libc6-dev build-essential\n",
        "!pip3 install mecab-python3"
      ],
      "execution_count": 0,
      "outputs": []
    },
    {
      "cell_type": "code",
      "metadata": {
        "id": "TfHyHwrmO9QS",
        "colab_type": "code",
        "colab": {}
      },
      "source": [
        "# zipファイルダウンロード\n",
        "url = 'https://www.aozora.gr.jp/cards/000148/files/794_ruby_4237.zip'\n",
        "zip = '794_ruby_4237.zip'\n",
        "urllib.request.urlretrieve(url, zip)\n",
        "\n",
        "with zipfile.ZipFile(zip, 'r') as myzip:\n",
        "    myzip.extractall()\n",
        "    for myfile in myzip.infolist():\n",
        "        filename = myfile.filename\n",
        "        with open(filename, encoding='sjis') as file:\n",
        "            text = file.read()\n",
        "\n",
        "#いらない文字列の処理\n",
        "text = re.split('\\-{5,}',text)[2]\n",
        "text = re.split('底本：',text)[0]\n",
        "text = text.replace('|', '')\n",
        "text = re.sub('《.+?》', '', text)\n",
        "text = re.sub('［＃.+?］', '',text)\n",
        "text = re.sub('\\n\\n', '\\n', text) \n",
        "text = re.sub('\\r', '', text)\n",
        "text=re.sub(r'https?://[\\w/:%#\\$&\\?\\(\\)~\\.=\\+\\-…]+', \"\", text)\n",
        "text=re.sub('RT', \"\", text)\n",
        "text=re.sub('\\u3000', \"\", text)\n",
        "text=re.sub('」', \"\", text)\n",
        "text=re.sub('「', \"\", text)\n",
        "text=re.sub('、', \"\", text)\n",
        "text=re.sub('。', \"\", text)\n",
        "text=re.sub('…', \"\", text)\n",
        "text=re.sub('一', \"\", text)\n",
        "text=re.sub(' ', \"\", text)\n",
        "text=re.sub('　', \"\", text)\n",
        "text=re.sub(r'[︰-＠]', \"\", text)#全角記号\n",
        "#text=re.sub('\\n', \" \", text)#改行文字"
      ],
      "execution_count": 0,
      "outputs": []
    },
    {
      "cell_type": "code",
      "metadata": {
        "id": "OtbpHM64XNyC",
        "colab_type": "code",
        "colab": {}
      },
      "source": [
        "#形態素に分解\n",
        "import MeCab\n",
        "mecab = MeCab.Tagger('')\n",
        "malist = mecab.parse(text)\n",
        "\n",
        "#必要なだけ抽出\n",
        "words=[]\n",
        "splited=malist.split()\n",
        "for i in range(0,len(splited),2):\n",
        "    if(splited[i]=='EOS'):\n",
        "        break\n",
        "    if(re.split(',',splited[i+1])[0]==\"副詞\"):\n",
        "        words.append(splited[i])\n",
        "    elif(re.split(',',splited[i+1])[0]==\"動詞\"):\n",
        "        words.append(splited[i])\n",
        "    elif(re.split(',',splited[i+1])[0]==\"名詞\"):\n",
        "        words.append(splited[i])\n",
        "    elif(re.split(',',splited[i+1])[0]==\"形容詞\"):\n",
        "        words.append(splited[i])"
      ],
      "execution_count": 0,
      "outputs": []
    },
    {
      "cell_type": "code",
      "metadata": {
        "id": "cEVaCKs9HQB7",
        "colab_type": "code",
        "colab": {}
      },
      "source": [
        "w2i={}\n",
        "i2w={}\n",
        "_words=set()#値が被らない構造\n",
        "_words.update(words)\n",
        "\n",
        "w2i = {w: (i)for i, w in enumerate(_words)}\n",
        "i2w = {i: w for w, i in w2i.items()}"
      ],
      "execution_count": 0,
      "outputs": []
    },
    {
      "cell_type": "code",
      "metadata": {
        "id": "uCk92jCAmdHv",
        "colab_type": "code",
        "colab": {}
      },
      "source": [
        "def get_indexes(word):\n",
        "    global words\n",
        "    indexes=[i for i, _x in enumerate(words) if _x == word]\n",
        "    return indexes"
      ],
      "execution_count": 0,
      "outputs": []
    },
    {
      "cell_type": "code",
      "metadata": {
        "id": "m7S0JuTMo8rl",
        "colab_type": "code",
        "colab": {
          "base_uri": "https://localhost:8080/",
          "height": 34
        },
        "outputId": "7e3a2217-cf26-490e-cdf6-499411f48c1b"
      },
      "source": [
        "!pip install tqdm\n",
        "from tqdm import tqdm"
      ],
      "execution_count": 90,
      "outputs": [
        {
          "output_type": "stream",
          "text": [
            "Requirement already satisfied: tqdm in /usr/local/lib/python3.6/dist-packages (4.28.1)\n"
          ],
          "name": "stdout"
        }
      ]
    },
    {
      "cell_type": "code",
      "metadata": {
        "id": "qwdQN1predvU",
        "colab_type": "code",
        "colab": {}
      },
      "source": [
        "x=torch.Tensor(list(w2i.values()))#入力データ行列\n",
        "y=torch.zeros(len(x),len(x))#i行目の単語i2w[i]はj列目の単語i2w[j]とy[i][j]回出てきている。\n",
        "window_size=5\n",
        "\n",
        "l=len(x)\n",
        "for i in tqdm(range(l)):\n",
        "    for j in range(l):#列\n",
        "        count = 0 #i番目の単語周辺に単語jが発生する数\n",
        "        if(j is not i):#自身は除外\n",
        "            center_indexes = get_indexes(i)\n",
        "            target_word = i2w[j]\n",
        "            for center in center_indexes:\n",
        "                if(center-window_size<0):\n",
        "                    count=count + words[c0:center+window_size+1].count(word)\n",
        "                elif(center+window_size+1>l):\n",
        "                    count=count + words[center-window_size:].count(word)\n",
        "                else:\n",
        "                    count=count + words[center-window_size:center+window_size+1].count(word)\n",
        "        y[i][j] = count\n",
        "    y[i]=(y[i]-y[i].min())/(y[i].max()-y[i].min())#行ごとに正規化"
      ],
      "execution_count": 0,
      "outputs": []
    },
    {
      "cell_type": "code",
      "metadata": {
        "colab_type": "code",
        "id": "jU127wF5NNXV",
        "colab": {}
      },
      "source": [
        "class EncoderDecoder(nn.Module):\n",
        "    def __init__(self,input_dim,vec_dim,device='cuda'):\n",
        "        super().__init__()\n",
        "        self.device = device\n",
        "        self.input_dim=input_dim\n",
        "        self.vec_dim=vec_dim\n",
        "        self.encoder=Encoder(self.input_dim,self.vec_dim)\n",
        "        self.decoder=Decoder(self.input_dim,self.vec_dim)\n",
        "    def forward(self,x):\n",
        "        if(x in w2i):\n",
        "            y=w2i(x)#word->id\n",
        "            y=torch.eye(self.input_dim)[y]#id->onehot\n",
        "            y=self.encoder(y)#onehot->vec\n",
        "            y=self.decoder(y)#vec->prob\n",
        "        return y\n",
        "\n",
        "\n",
        "class Encoder(nn.Module):\n",
        "    def __init__(self,input_dim,vec_dim,device='cuda'):\n",
        "        super().__init__()\n",
        "        self.device = device\n",
        "        self.layer=nn.Linear(input_dim,vec_dim)#これがそのままルックアプテーブルになる。\n",
        "\n",
        "    def forward(self,x):\n",
        "        y=self.layer\n",
        "        return y\n",
        "\n",
        "\n",
        "class Decoder(nn.Module):\n",
        "    def __init__(self,input_dim,vec_dim,device='cuda'):\n",
        "        super().__init__()\n",
        "        self.device = device\n",
        "        self.layer=nn.Linear(vec_dim,input_dim)\n",
        "        self.out=nn.Softmax()\n",
        "    def forward(self,x):\n",
        "        y=self.layer(x)\n",
        "        y=self.out(y)\n",
        "        return y"
      ],
      "execution_count": 0,
      "outputs": []
    },
    {
      "cell_type": "markdown",
      "metadata": {
        "id": "IYEPtxJF2LOd",
        "colab_type": "text"
      },
      "source": [
        "# 学習"
      ]
    },
    {
      "cell_type": "code",
      "metadata": {
        "id": "IUL5u9-xTmvn",
        "colab_type": "code",
        "colab": {}
      },
      "source": [
        "model=EncoderDecoder(len(_words),10)\n",
        "criterion = nn.CrossEntropyLoss()\n",
        "optimizer = optimizers.Adam(model.parameters())\n",
        "def train_step(x, t):\n",
        "    model.train()\n",
        "    preds = model(x, t)\n",
        "    loss = compute_loss()\n",
        "    optimizer.zero_grad()\n",
        "    loss.backward()\n",
        "    optimizer.step()\n",
        "    return loss, preds\n",
        "for i in range(epochs):\n",
        "    train_x,train_y=shuffle(x,y)\n",
        "    for i in range(l)\n",
        "        train_step(train_x[l],train_y[l])\n",
        "model.eval()"
      ],
      "execution_count": 0,
      "outputs": []
    },
    {
      "cell_type": "code",
      "metadata": {
        "id": "ZZDphZJF1q4U",
        "colab_type": "code",
        "colab": {}
      },
      "source": [
        "#word2vecテーブル\n",
        "print(model.encoder.layer.weight)"
      ],
      "execution_count": 0,
      "outputs": []
    }
  ]
}